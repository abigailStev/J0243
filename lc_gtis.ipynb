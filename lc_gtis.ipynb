{
 "cells": [
  {
   "cell_type": "code",
   "execution_count": 1,
   "id": "a4cd0717",
   "metadata": {},
   "outputs": [
    {
     "name": "stderr",
     "output_type": "stream",
     "text": [
      "/home/astevens/anaconda3/envs/j0243/lib/python3.9/site-packages/stingray/utils.py:27: UserWarning: Numba not installed. Faking it\n",
      "  warnings.warn(\"Numba not installed. Faking it\")\n",
      "/home/astevens/anaconda3/envs/j0243/lib/python3.9/site-packages/stingray/fourier.py:18: UserWarning: pyfftw not installed. Using standard scipy fft\n",
      "  warnings.warn(\"pyfftw not installed. Using standard scipy fft\")\n",
      "/home/astevens/anaconda3/envs/j0243/lib/python3.9/site-packages/stingray/crosscorrelation.py:9: UserWarning: pyfftw not installed. Using standard scipy fft\n",
      "  warnings.warn(\"pyfftw not installed. Using standard scipy fft\")\n",
      "/home/astevens/anaconda3/envs/j0243/lib/python3.9/site-packages/stingray/bispectrum.py:11: UserWarning: pyfftw not installed. Using standard scipy fft\n",
      "  warnings.warn(\"pyfftw not installed. Using standard scipy fft\")\n"
     ]
    }
   ],
   "source": [
    "import os\n",
    "from astropy.table import Table, Column  ## to use astropy tables as our data storage and interaction format\n",
    "import numpy as np\n",
    "from stingray.events import EventList\n",
    "from stingray.lightcurve import Lightcurve"
   ]
  },
  {
   "cell_type": "code",
   "execution_count": 2,
   "id": "d3234573",
   "metadata": {},
   "outputs": [],
   "source": [
    "homedir = os.path.expanduser('~')\n",
    "obj_name = \"Swift_J0243.6+6124\"\n",
    "obj_prefix = \"J0243\"\n",
    "exe_dir = os.getcwd()\n",
    "data_dir = homedir + '/Reduced_data/%s/1050390113/xti/event_cl/' % obj_name\n",
    "data_file = data_dir + 'obs113_0mpu7_cl_no14-34-54.evt'\n",
    "assert os.path.isfile(data_file), 'Data file does not exist.'"
   ]
  },
  {
   "cell_type": "code",
   "execution_count": 3,
   "id": "72d45159",
   "metadata": {},
   "outputs": [
    {
     "name": "stdout",
     "output_type": "stream",
     "text": [
      "91491444\n",
      "91482305\n"
     ]
    }
   ],
   "source": [
    "datatab = Table.read(data_file, format='fits', hdu=1)\n",
    "print(len(datatab))\n",
    "energy_mask = (datatab['PI'] >= 20) & (datatab['PI'] <= 1200)\n",
    "datatab = datatab[energy_mask]\n",
    "print(len(datatab))"
   ]
  },
  {
   "cell_type": "code",
   "execution_count": 4,
   "id": "96b59b0c",
   "metadata": {},
   "outputs": [
    {
     "name": "stdout",
     "output_type": "stream",
     "text": [
      "      START               STOP       \n",
      "        s                  s         \n",
      "------------------ ------------------\n",
      "       120970497.0        120971065.0\n",
      "       120971070.0        120971082.0\n",
      "       120976288.0        120976642.0\n",
      "       120992530.0        120992531.0\n",
      "       120992533.0 120993385.50219412\n",
      "120993385.50267753 120993419.48035495\n",
      "120993419.48269826        120993582.0\n",
      "       121009194.0        121010262.0\n",
      "       121014748.0        121015685.0\n",
      "       121015688.0        121015701.0\n",
      "[[120970497.0, 120971065.0], [120971070.0, 120971082.0], [120976288.0, 120976642.0], [120992530.0, 120992531.0], [120992533.0, 120993385.50219412], [120993385.50267753, 120993419.48035495], [120993419.48269826, 120993582.0], [121009194.0, 121010262.0], [121014748.0, 121015685.0], [121015688.0, 121015701.0]]\n"
     ]
    }
   ],
   "source": [
    "gtitab = Table.read(data_file, format='fits', hdu=2)\n",
    "print(gtitab)\n",
    "gtis = [[i,j] for i,j in zip(gtitab['START'], gtitab['STOP'])]"
   ]
  },
  {
   "cell_type": "code",
   "execution_count": 5,
   "id": "7c6ddad4",
   "metadata": {},
   "outputs": [],
   "source": [
    "lc = Lightcurve.make_lightcurve(datatab['TIME'], dt=1./2, gti=gtis)"
   ]
  },
  {
   "cell_type": "code",
   "execution_count": 6,
   "id": "d3c0df4c",
   "metadata": {},
   "outputs": [
    {
     "data": {
      "image/png": "[encoded data removed]",
      "text/plain": [
       "<Figure size 432x288 with 1 Axes>"
      ]
     },
     "metadata": {
      "needs_background": "light"
     },
     "output_type": "display_data"
    }
   ],
   "source": [
    "lc.plot()"
   ]
  },
  {
   "cell_type": "code",
   "execution_count": 7,
   "id": "abd3860f",
   "metadata": {},
   "outputs": [],
   "source": [
    "def meanseg(lc):\n",
    "    return np.mean(lc.countrate)"
   ]
  },
  {
   "cell_type": "code",
   "execution_count": 8,
   "id": "2ae417a0",
   "metadata": {},
   "outputs": [],
   "source": [
    "n_sec = 64.0\n",
    "start, stop, meanrate = lc.analyze_lc_chunks(segment_size=n_sec, func=meanseg)"
   ]
  },
  {
   "cell_type": "code",
   "execution_count": 9,
   "id": "cb8a504c",
   "metadata": {},
   "outputs": [
    {
     "name": "stdout",
     "output_type": "stream",
     "text": [
      "58\n"
     ]
    }
   ],
   "source": [
    "print(len(start))"
   ]
  },
  {
   "cell_type": "code",
   "execution_count": 10,
   "id": "c7164e93",
   "metadata": {},
   "outputs": [
    {
     "name": "stdout",
     "output_type": "stream",
     "text": [
      "[20475.609375 19413.4375   18689.296875 27340.09375  24733.015625\n",
      " 26059.1875   20960.8125   25592.21875  23410.96875  22394.9375\n",
      " 22139.90625  18591.171875 22262.765625 22653.484375 23179.046875\n",
      " 22862.875    18152.53125  19808.796875 20556.875    20799.59375\n",
      " 24470.046875 25372.578125 22392.21875  22717.40625  19939.953125\n",
      " 24973.765625 27063.515625 18019.234375 23468.1875   22779.15625\n",
      " 20481.1875   19578.5625   21794.71875  22825.859375 24385.71875\n",
      " 21250.765625 21443.953125 25281.234375 25065.015625 26182.53125\n",
      " 24384.8125   19999.296875 22465.578125 23426.453125 20736.5625\n",
      " 24375.390625 23577.8125   26278.75     26626.140625 28117.6875\n",
      " 22389.234375 20959.984375 18941.       24821.03125  22783.671875\n",
      " 23539.859375 23135.640625 24372.28125 ]\n"
     ]
    }
   ],
   "source": [
    "print(meanrate)"
   ]
  },
  {
   "cell_type": "code",
   "execution_count": 11,
   "id": "57e2db13",
   "metadata": {},
   "outputs": [
    {
     "name": "stdout",
     "output_type": "stream",
     "text": [
      "[64.5 64.5 64.5 64.5 64.5 64.5 64.5 64.5 64.5 64.5 64.5 64.5 64.5 64.5\n",
      " 64.5 64.5 64.5 64.5 64.5 64.5 64.5 64.5 64.5 64.5 64.5 64.5 64.5 64.5\n",
      " 64.5 64.5 64.5 64.5 64.5 64.5 64.5 64.5 64.5 64.5 64.5 64.5 64.5 64.5\n",
      " 64.5 64.5 64.5 64.5 64.5 64.5 64.5 64.5 64.5 64.5 64.5 64.5 64.5 64.5\n",
      " 64.5 64.5]\n",
      "64.0\n"
     ]
    }
   ],
   "source": [
    "print(stop-start)\n",
    "print(start[1]-start[0])"
   ]
  },
  {
   "cell_type": "code",
   "execution_count": 12,
   "id": "90dee5e7",
   "metadata": {},
   "outputs": [
    {
     "name": "stdout",
     "output_type": "stream",
     "text": [
      "64.0\n"
     ]
    }
   ],
   "source": [
    "ends = stop-lc.dt\n",
    "print(np.mean(ends-start))"
   ]
  },
  {
   "cell_type": "markdown",
   "id": "f28d95fe",
   "metadata": {},
   "source": [
    "If you want to save your segment starts and ends to a text file, uncomment the next block."
   ]
  },
  {
   "cell_type": "code",
   "execution_count": 13,
   "id": "91ed5685",
   "metadata": {},
   "outputs": [],
   "source": [
    "# seg_times = np.column_stack((start, ends))\n",
    "# gti_txt = exe_dir+\"/out/%s_%dsec_%ddt_seg-times.txt\" % (obj_prefix, n_sec, int(1/lc.dt))\n",
    "# np.savetxt(gti_txt, seg_times, fmt=\"%.12f\")"
   ]
  },
  {
   "cell_type": "markdown",
   "id": "430cf696",
   "metadata": {},
   "source": [
    "Run this at the command line to get a hollow husk of a GTI file "
   ]
  },
  {
   "cell_type": "code",
   "execution_count": 16,
   "id": "45341999",
   "metadata": {},
   "outputs": [
    {
     "name": "stdout",
     "output_type": "stream",
     "text": [
      "Run these things at the command line:\n",
      "bash\n",
      "heainit\n",
      "cd /home/astevens/Reduced_data/Swift_J0243.6+6124/1050390113/xti/event_cl/\n",
      "nimaketime infile=../../auxil/ni1050390113.mkf outfile=./obs113_nobary.gti\n"
     ]
    }
   ],
   "source": [
    "print(\"Run these things at the command line:\")\n",
    "print(\"bash\")\n",
    "print(\"heainit\")\n",
    "print(\"cd %s\" % data_dir)\n",
    "print(\"nimaketime infile=../../auxil/ni1050390113.mkf outfile=./obs113_nobary.gti\")"
   ]
  },
  {
   "cell_type": "code",
   "execution_count": 17,
   "id": "b8286fdf",
   "metadata": {},
   "outputs": [],
   "source": [
    "gti_file = data_dir+'obs113_nobary.gti'\n",
    "assert os.path.isfile(gti_file), 'GTI file does not exist.'"
   ]
  },
  {
   "cell_type": "code",
   "execution_count": 18,
   "id": "930bcd6f",
   "metadata": {},
   "outputs": [
    {
     "name": "stdout",
     "output_type": "stream",
     "text": [
      "   START        STOP   \n",
      "    sec         sec    \n",
      "----------- -----------\n",
      "120970497.0 120971065.0\n",
      "120971070.0 120971082.0\n",
      "120976288.0 120976642.0\n",
      "120992530.0 120992531.0\n",
      "120992533.0 120993582.0\n",
      "121009194.0 121010262.0\n",
      "121014748.0 121015685.0\n",
      "121015688.0 121015701.0\n"
     ]
    }
   ],
   "source": [
    "gti2 = Table.read(gti_file, format='fits')\n",
    "print(gti2)"
   ]
  },
  {
   "cell_type": "code",
   "execution_count": 19,
   "id": "9adce1f9",
   "metadata": {},
   "outputs": [],
   "source": [
    "final_tab = Table()\n",
    "final_tab.meta = gti2.meta"
   ]
  },
  {
   "cell_type": "code",
   "execution_count": 20,
   "id": "fd7551d6",
   "metadata": {},
   "outputs": [],
   "source": [
    "final_tab['START'] = start\n",
    "final_tab['STOP'] = ends"
   ]
  },
  {
   "cell_type": "code",
   "execution_count": 21,
   "id": "0daa7e48",
   "metadata": {},
   "outputs": [],
   "source": [
    "final_tab.write(gti_file, format='fits', overwrite=True)"
   ]
  },
  {
   "cell_type": "markdown",
   "id": "52d57eba",
   "metadata": {},
   "source": [
    "niextract-events filename=./1050390113/xti/event_cl/obs113_0mpu7_cl_no14-34-54.evt[PI=20:1200,EVENT_FLAGS=bxxx1x000] eventsout=./obs1050390113_filt-nobary-extr.evt timefile=./1050390113/xti/event_cl/obs113_nobary.gti gti=GTI clobber=YES chatter=5"
   ]
  },
  {
   "cell_type": "markdown",
   "id": "97c50a3f",
   "metadata": {},
   "source": [
    "niextract-events filename=./1050390113/xti/event_cl/obs113_CI_cl_no14-34-54.evt[PI=20:1200,EVENT_FLAGS=bxxx1x000] eventsout=./113_CI_filt-nobary-extr.evt timefile=./1050390113/xti/event_cl/obs113_nobary.gti gti=GTI clobber=YES chatter=5"
   ]
  }
 ],
 "metadata": {
  "kernelspec": {
   "display_name": "Python 3 (ipykernel)",
   "language": "python",
   "name": "python3"
  },
  "language_info": {
   "codemirror_mode": {
    "name": "ipython",
    "version": 3
   },
   "file_extension": ".py",
   "mimetype": "text/x-python",
   "name": "python",
   "nbconvert_exporter": "python",
   "pygments_lexer": "ipython3",
   "version": "3.9.7"
  }
 },
 "nbformat": 4,
 "nbformat_minor": 5
}
