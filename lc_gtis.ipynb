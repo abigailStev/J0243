{
 "cells": [
  {
   "cell_type": "code",
   "execution_count": 1,
   "id": "a4cd0717",
   "metadata": {},
   "outputs": [],
   "source": [
    "import os\n",
    "from astropy.table import Table ## to use astropy tables as our data storage and interaction format\n",
    "import numpy as np"
   ]
  },
  {
   "cell_type": "code",
   "execution_count": 2,
   "id": "26304363",
   "metadata": {},
   "outputs": [],
   "source": [
    "homedir = os.path.expanduser('~')\n",
    "exe_dir = os.getcwd()\n",
    "obj_name = \"Swift_J0243.6+6124\"\n",
    "obj_prefix = \"J0243\"\n",
    "data_dir = '%s/Reduced_data/%s/' % (homedir, obj_name)\n",
    "assert os.path.isdir(data_dir)"
   ]
  },
  {
   "cell_type": "code",
   "execution_count": 3,
   "id": "f13aafc1",
   "metadata": {},
   "outputs": [],
   "source": [
    "obsid = \"1050390113\""
   ]
  },
  {
   "cell_type": "markdown",
   "id": "010e544f",
   "metadata": {},
   "source": [
    "### For making a light curve of each FPM detector"
   ]
  },
  {
   "cell_type": "code",
   "execution_count": 4,
   "id": "d47656f2",
   "metadata": {},
   "outputs": [],
   "source": [
    "detid_bin_file = exe_dir +\"/in/detectors.txt\"\n",
    "## Could otherwise use n_chans = detchans FITS keyword in rsp matrix, and\n",
    "## chan_bins=np.arange(detchans+1)  (need +1 for how histogram does ends)\n",
    "detID_bins = np.loadtxt(detid_bin_file, dtype=int)"
   ]
  },
  {
   "cell_type": "markdown",
   "id": "edd06eb9",
   "metadata": {},
   "source": [
    "Setting up, assuming same internal file structure as in the FTP download from HEASARC"
   ]
  },
  {
   "cell_type": "code",
   "execution_count": 5,
   "id": "a1e9c369",
   "metadata": {},
   "outputs": [],
   "source": [
    "obs_dir = '%s%s/xti/event_cl/' % (data_dir, obsid)\n",
    "data_file = '%sni%s_0mpu7_cl.evt' % (obs_dir, obsid)\n",
    "assert os.path.isfile(data_file), 'Data file does not exist.'"
   ]
  },
  {
   "cell_type": "markdown",
   "id": "b79166fa",
   "metadata": {},
   "source": [
    "### Reading in event list and gti HDU"
   ]
  },
  {
   "cell_type": "code",
   "execution_count": 6,
   "id": "1a5633e8",
   "metadata": {},
   "outputs": [],
   "source": [
    "datatab = Table.read(data_file, format='fits', hdu=1)\n",
    "energy_mask = (datatab['PI'] >= 20) & (datatab['PI'] <= 1200)\n",
    "datatab = datatab[energy_mask]"
   ]
  },
  {
   "cell_type": "code",
   "execution_count": 7,
   "id": "948274e3",
   "metadata": {},
   "outputs": [],
   "source": [
    "gtitab = Table.read(data_file, format='fits', hdu=2)"
   ]
  },
  {
   "cell_type": "code",
   "execution_count": 8,
   "id": "74b0525c",
   "metadata": {},
   "outputs": [],
   "source": [
    "## Initializing\n",
    "overall_means = np.asarray([])\n",
    "overall_stds = np.asarray([])\n",
    "det_means = np.asarray(np.zeros((len(detID_bins)-1,1)))  # -1 because of 0-indexed vs 1-indexed\n",
    "det_stds = np.asarray(np.zeros((len(detID_bins)-1,1)))"
   ]
  },
  {
   "cell_type": "code",
   "execution_count": 9,
   "id": "607fbc8b",
   "metadata": {},
   "outputs": [],
   "source": [
    "def det_lcs(times, dets, det_bins, gti_start, gti_stop, dt=1):\n",
    "    \"\"\"\n",
    "    times: array of the event list times (arb start, same units as GTI times, in seconds)\n",
    "    dets: array of the event list FPMs\n",
    "    gti_start: the start of the GTI (arb start, in seconds)\n",
    "    gti_stop: the end of the GTI (also in seconds)\n",
    "    dt: the timestep of the desired lightcurve, in seconds\n",
    "    \"\"\"\n",
    "    n_bins = int(np.round((gti_stop - gti_start) / dt))\n",
    "    t_bin_seq = np.linspace(gti_start, gti_stop, num=n_bins + 1)\n",
    "    \n",
    "    lc_2d, t_bin_edges, d_bin_edges = np.histogram2d(times, dets,\n",
    "                                                     bins=[t_bin_seq,\n",
    "                                                           det_bins],\n",
    "                                                     normed=False)\n",
    "    ## Need counts/dt to have units of counts per second\n",
    "    ## Doing it by multiplying by 1/dt, to keep it as an int and not get\n",
    "    ## typecasting errors.\n",
    "    dt_inv_int = np.int64(1. / dt)\n",
    "    lc_2d *= dt_inv_int\n",
    "    return lc_2d # in units of counts per second"
   ]
  },
  {
   "cell_type": "markdown",
   "id": "9ac1781e",
   "metadata": {},
   "source": [
    "### Looping through the GTIs for the data file"
   ]
  },
  {
   "cell_type": "code",
   "execution_count": 10,
   "id": "e0ddd7ce",
   "metadata": {},
   "outputs": [
    {
     "name": "stdout",
     "output_type": "stream",
     "text": [
      "(1136, 52)\n",
      "(24, 52)\n",
      "(708, 52)\n",
      "(2, 52)\n",
      "(1705, 52)\n",
      "(68, 52)\n",
      "(325, 52)\n",
      "(2136, 52)\n",
      "(1874, 52)\n",
      "(26, 52)\n"
     ]
    }
   ],
   "source": [
    "for starttime, stoptime in zip(gtitab['START'], gtitab['STOP']):\n",
    "    lc = det_lcs(datatab['TIME'],\n",
    "                 datatab['DET_ID'], \n",
    "                 detID_bins, \n",
    "                 starttime, \n",
    "                 stoptime,\n",
    "                 dt=0.5)\n",
    "    print(np.shape(lc))\n",
    "    overall_means = np.append(overall_means, np.mean(lc))\n",
    "    overall_stds = np.append(overall_stds, np.std(lc))\n",
    "    det_means = np.append(det_means, np.mean(lc, axis=0)[:, np.newaxis], axis=1)\n",
    "    det_stds = np.append(det_stds, np.std(lc, axis=0)[:, np.newaxis], axis=1)\n",
    "## Removing the zeros i initialized the 2-d arrays with\n",
    "det_means = det_means[:,1:]\n",
    "det_stds = det_stds[:,1:]"
   ]
  },
  {
   "cell_type": "markdown",
   "id": "f00093ec",
   "metadata": {},
   "source": [
    "### Determining the upper and lower limits for 'flares' and 'dips' of grumpy FPMs"
   ]
  },
  {
   "cell_type": "code",
   "execution_count": 11,
   "id": "940e694d",
   "metadata": {},
   "outputs": [
    {
     "name": "stdout",
     "output_type": "stream",
     "text": [
      "FLAREY BOIS:  [27]\n",
      "DIPPY BOIS:  [61]\n"
     ]
    }
   ],
   "source": [
    "upper_lim = overall_means + overall_stds\n",
    "lower_lim = overall_means - overall_stds\n",
    "# print(upper_lim)\n",
    "# print(lower_lim)\n",
    "above = np.where(det_means >= upper_lim)\n",
    "below = np.where(det_means <= lower_lim)\n",
    "# print(det_means[above])\n",
    "flarey_bois = np.unique(detID_bins[above[0]])\n",
    "print(\"FLAREY BOIS: \", flarey_bois)\n",
    "# print(det_means[below])\n",
    "dippy_bois = np.unique(detID_bins[below[0]])\n",
    "print(\"DIPPY BOIS: \", dippy_bois)"
   ]
  },
  {
   "cell_type": "markdown",
   "id": "a2673256",
   "metadata": {},
   "source": [
    "### Checking if all the problems are with the same GTIs. If so, throw it out!"
   ]
  },
  {
   "cell_type": "code",
   "execution_count": 12,
   "id": "a6f2441d",
   "metadata": {},
   "outputs": [
    {
     "name": "stdout",
     "output_type": "stream",
     "text": [
      "But wait, is it a GTI issue?\n",
      "GTIs with flarey bois:  [3]\n",
      "GTIs with dippy bois:  [3]\n"
     ]
    }
   ],
   "source": [
    "## Checking if all the problems are with the same GTIs. If so, throw it out!\n",
    "print(\"But wait, is it a GTI issue?\")\n",
    "## Remember that these are zero-indexed, so [3] means the 4th GTI in the list.\n",
    "print(\"GTIs with flarey bois: \", np.unique(above[1]))\n",
    "print(\"GTIs with dippy bois: \", np.unique(below[1]))"
   ]
  },
  {
   "cell_type": "code",
   "execution_count": 13,
   "id": "cff62e8a",
   "metadata": {},
   "outputs": [],
   "source": [
    "del datatab\n",
    "del gtitab"
   ]
  },
  {
   "cell_type": "markdown",
   "id": "e866ef54",
   "metadata": {},
   "source": [
    "## Running nicerl2\n",
    "If you identified bad FPMs, remove them here with expr='(DET_ID != XX)'\n",
    "\n",
    "(nicercal, niextract-events, nimaketime, and nicer-mergeclean with min_fpm=7) to get cleaned event lists"
   ]
  },
  {
   "cell_type": "code",
   "execution_count": 14,
   "id": "f1944d6a",
   "metadata": {},
   "outputs": [
    {
     "name": "stdout",
     "output_type": "stream",
     "text": [
      "Run these things at the command line:\n",
      "bash\n",
      "heainit\n",
      "cd /home/astevens/Reduced_data/Swift_J0243.6+6124/\n",
      "chmod u+x reduce.sh\n",
      "./reduce.sh\n"
     ]
    }
   ],
   "source": [
    "red_script = data_dir+\"reduce.sh\"\n",
    "red_log = data_dir+\"reduce.log\"\n",
    "local_tot_evt_file = \"%s/xti/event_cl/obs%s_0mpu7_cl.evt\" % (obsid, obsid[-3:])\n",
    "local_ci_evt_file = \"%s/xti/event_cl/obs%s_0mpu7_CI_cl.evt\" % (obsid, obsid[-3:])\n",
    "with open(red_script, 'w') as f:\n",
    "#     f.write(\"rm %s \\n\" % red_log)\n",
    "#     f.write(\"nicerl2 %s clobber=yes > %s\\n\" % (str(obsid), redlog)) \n",
    "#     f.write(\"fselect infile=./%s/xti/event_cl/ni%s_0mpu7_cl.evt \"\n",
    "#             \"outfile=./%s \"\n",
    "#             \"clobber=yes > %s\\n\" % (str(obsid), str(obsid), local_tot_evt_file, red_log))\n",
    "    f.write(\"cp ./%s/xti/event_cl/ni%s_0mpu7_cl.evt ./%s \\n\" % (obsid, obsid, local_tot_evt_file)) \n",
    "    f.write(\"fselect infile=./%s/xti/event_cl/ni%s_0mpu7_cl.evt \"\n",
    "            \"outfile=./%s \"\n",
    "            \"expr='(DET_ID < 40)' \"\n",
    "            \"clobber=yes > %s\\n\" % (obsid, obsid, local_ci_evt_file, red_log))\n",
    "print(\"Run these things at the command line:\")\n",
    "print(\"bash\")\n",
    "print(\"heainit\")\n",
    "print(\"cd %s\" % data_dir)\n",
    "print(\"chmod u+x %s\" % os.path.basename(red_script))\n",
    "print(\"./%s\" % os.path.basename(red_script))"
   ]
  },
  {
   "cell_type": "markdown",
   "id": "b2bc3b83",
   "metadata": {},
   "source": [
    "## This next part ensures that we're only making spectra with the exact GTIs we will use for the timing analysis. "
   ]
  },
  {
   "cell_type": "code",
   "execution_count": 15,
   "id": "b9b7f41a",
   "metadata": {},
   "outputs": [
    {
     "name": "stderr",
     "output_type": "stream",
     "text": [
      "/home/astevens/anaconda3/envs/j0243/lib/python3.9/site-packages/stingray/fourier.py:18: UserWarning: pyfftw not installed. Using standard scipy fft\n",
      "  warnings.warn(\"pyfftw not installed. Using standard scipy fft\")\n",
      "/home/astevens/anaconda3/envs/j0243/lib/python3.9/site-packages/stingray/crosscorrelation.py:9: UserWarning: pyfftw not installed. Using standard scipy fft\n",
      "  warnings.warn(\"pyfftw not installed. Using standard scipy fft\")\n",
      "/home/astevens/anaconda3/envs/j0243/lib/python3.9/site-packages/stingray/bispectrum.py:11: UserWarning: pyfftw not installed. Using standard scipy fft\n",
      "  warnings.warn(\"pyfftw not installed. Using standard scipy fft\")\n"
     ]
    }
   ],
   "source": [
    "from stingray.events import EventList\n",
    "from stingray.lightcurve import Lightcurve"
   ]
  },
  {
   "cell_type": "code",
   "execution_count": 16,
   "id": "934e02d3",
   "metadata": {},
   "outputs": [
    {
     "name": "stdout",
     "output_type": "stream",
     "text": [
      "/home/astevens/Reduced_data/Swift_J0243.6+6124/1050390113/xti/event_cl/obs113_0mpu7_cl.evt\n"
     ]
    }
   ],
   "source": [
    "data_file = '%s%s' % (data_dir, local_tot_evt_file)\n",
    "print(data_file)\n",
    "assert os.path.isfile(data_file), 'Data file does not exist.'"
   ]
  },
  {
   "cell_type": "code",
   "execution_count": 17,
   "id": "68dec671",
   "metadata": {},
   "outputs": [
    {
     "name": "stdout",
     "output_type": "stream",
     "text": [
      "97159573\n",
      "97149830\n"
     ]
    }
   ],
   "source": [
    "datatab = Table.read(data_file, format='fits', hdu=1)\n",
    "print(len(datatab))\n",
    "energy_mask = (datatab['PI'] >= 20) & (datatab['PI'] <= 1200)\n",
    "datatab = datatab[energy_mask]\n",
    "print(len(datatab))\n",
    "## number should go down, because we're removing events"
   ]
  },
  {
   "cell_type": "code",
   "execution_count": 18,
   "id": "5635e02d",
   "metadata": {},
   "outputs": [
    {
     "name": "stdout",
     "output_type": "stream",
     "text": [
      "      START               STOP       \n",
      "        s                  s         \n",
      "------------------ ------------------\n",
      "       120970497.0        120971065.0\n",
      "       120971070.0        120971082.0\n",
      "       120976288.0        120976642.0\n",
      "       120992530.0        120992531.0\n",
      "       120992533.0 120993385.50219412\n",
      "120993385.50267753 120993419.48035495\n",
      "120993419.48269826        120993582.0\n",
      "       121009194.0        121010262.0\n",
      "       121014748.0        121015685.0\n",
      "       121015688.0        121015701.0\n"
     ]
    }
   ],
   "source": [
    "gtitab = Table.read(data_file, format='fits', hdu=2)\n",
    "print(gtitab)\n",
    "gtis = [[i,j] for i,j in zip(gtitab['START'], gtitab['STOP'])]"
   ]
  },
  {
   "cell_type": "code",
   "execution_count": 19,
   "id": "01e54985",
   "metadata": {},
   "outputs": [],
   "source": [
    "lc = Lightcurve.make_lightcurve(datatab['TIME'], dt=1./2, gti=gtis)"
   ]
  },
  {
   "cell_type": "code",
   "execution_count": 20,
   "id": "b2051f0d",
   "metadata": {},
   "outputs": [
    {
     "data": {
      "image/png": "[encoded data removed]",
      "text/plain": [
       "<Figure size 432x288 with 1 Axes>"
      ]
     },
     "metadata": {
      "needs_background": "light"
     },
     "output_type": "display_data"
    }
   ],
   "source": [
    "lc.plot()"
   ]
  },
  {
   "cell_type": "code",
   "execution_count": 21,
   "id": "938993b6",
   "metadata": {},
   "outputs": [],
   "source": [
    "def meanseg(lc):\n",
    "    return np.mean(lc.countrate)"
   ]
  },
  {
   "cell_type": "code",
   "execution_count": 22,
   "id": "3db32a6d",
   "metadata": {},
   "outputs": [
    {
     "name": "stdout",
     "output_type": "stream",
     "text": [
      "58\n"
     ]
    }
   ],
   "source": [
    "n_sec = 64.0\n",
    "start, stop, meanrate = lc.analyze_lc_chunks(segment_size=n_sec, func=meanseg)\n",
    "print(len(start))"
   ]
  },
  {
   "cell_type": "code",
   "execution_count": 23,
   "id": "2135cb17",
   "metadata": {},
   "outputs": [
    {
     "name": "stdout",
     "output_type": "stream",
     "text": [
      "[21755.65625  20615.8125   19856.4375   29033.34375  26269.96875\n",
      " 27682.28125  22261.671875 27186.0625   24859.53125  23778.578125\n",
      " 23515.875    19742.0625   23646.015625 24062.484375 24619.4375\n",
      " 24274.40625  19283.234375 21034.578125 21838.0625   22085.34375\n",
      " 25994.46875  26937.640625 23776.09375  24117.421875 21177.890625\n",
      " 26517.234375 28726.515625 19138.65625  24927.921875 24190.828125\n",
      " 21759.828125 20795.171875 23147.03125  24247.640625 25897.84375\n",
      " 22564.125    22773.53125  26849.375    26612.953125 27806.453125\n",
      " 25906.671875 21242.96875  23855.65625  24868.09375  22021.75\n",
      " 25885.515625 25033.65625  27913.53125  28270.75     29848.421875\n",
      " 23764.34375  22262.125    20120.8125   26349.75     24190.796875\n",
      " 25004.28125  24565.09375  25875.734375]\n"
     ]
    }
   ],
   "source": [
    "print(meanrate)"
   ]
  },
  {
   "cell_type": "code",
   "execution_count": 24,
   "id": "d0320ad7",
   "metadata": {},
   "outputs": [
    {
     "name": "stdout",
     "output_type": "stream",
     "text": [
      "[64.5 64.5 64.5 64.5 64.5 64.5 64.5 64.5 64.5 64.5 64.5 64.5 64.5 64.5\n",
      " 64.5 64.5 64.5 64.5 64.5 64.5 64.5 64.5 64.5 64.5 64.5 64.5 64.5 64.5\n",
      " 64.5 64.5 64.5 64.5 64.5 64.5 64.5 64.5 64.5 64.5 64.5 64.5 64.5 64.5\n",
      " 64.5 64.5 64.5 64.5 64.5 64.5 64.5 64.5 64.5 64.5 64.5 64.5 64.5 64.5\n",
      " 64.5 64.5]\n",
      "64.0\n"
     ]
    }
   ],
   "source": [
    "print(stop-start)\n",
    "print(start[1]-start[0])"
   ]
  },
  {
   "cell_type": "code",
   "execution_count": 25,
   "id": "a27145dc",
   "metadata": {},
   "outputs": [
    {
     "name": "stdout",
     "output_type": "stream",
     "text": [
      "64.0\n"
     ]
    }
   ],
   "source": [
    "ends = stop-lc.dt\n",
    "print(np.mean(ends-start))"
   ]
  },
  {
   "cell_type": "markdown",
   "id": "ef38f95f",
   "metadata": {},
   "source": [
    "If you want to save your segment starts and ends to a text file, uncomment the next block."
   ]
  },
  {
   "cell_type": "code",
   "execution_count": 26,
   "id": "91b8002b",
   "metadata": {},
   "outputs": [],
   "source": [
    "# seg_times = np.column_stack((start, ends))\n",
    "# gti_txt = exe_dir+\"/out/%s_%dsec_%ddt_seg-times.txt\" % (obj_prefix, n_sec, int(1/lc.dt))\n",
    "# np.savetxt(gti_txt, seg_times, fmt=\"%.12f\")"
   ]
  },
  {
   "cell_type": "markdown",
   "id": "241bc911",
   "metadata": {},
   "source": [
    "Run this at the command line to get a hollow husk of a GTI file "
   ]
  },
  {
   "cell_type": "code",
   "execution_count": 27,
   "id": "f8d72d87",
   "metadata": {},
   "outputs": [
    {
     "name": "stdout",
     "output_type": "stream",
     "text": [
      "Run these things at the command line:\n",
      "bash\n",
      "heainit\n",
      "cd /home/astevens/Reduced_data/Swift_J0243.6+6124/\n",
      "nimaketime infile=./1050390113/auxil/ni1050390113.mkf outfile=./1050390113/xti/event_cl/obs113_nobary.gti\n"
     ]
    }
   ],
   "source": [
    "local_gti_file = \"%s/xti/event_cl/obs%s_nobary.gti\" % (obsid, obsid[-3:])\n",
    "print(\"Run these things at the command line:\")\n",
    "print(\"bash\")\n",
    "print(\"heainit\")\n",
    "print(\"cd %s\" % data_dir)\n",
    "print(\"nimaketime infile=./%s/auxil/ni%s.mkf outfile=./%s\" % (obsid, obsid, local_gti_file))"
   ]
  },
  {
   "cell_type": "code",
   "execution_count": 28,
   "id": "73976651",
   "metadata": {},
   "outputs": [],
   "source": [
    "gti_file = \"%s%s\" % (data_dir, local_gti_file)\n",
    "assert os.path.isfile(gti_file), 'GTI file does not exist.'"
   ]
  },
  {
   "cell_type": "code",
   "execution_count": 29,
   "id": "d0764a1c",
   "metadata": {},
   "outputs": [
    {
     "name": "stdout",
     "output_type": "stream",
     "text": [
      "      START               STOP       \n",
      "------------------ ------------------\n",
      "120970497.00001875 120970561.00001875\n",
      "120970561.00001875 120970625.00001875\n",
      "120970625.00001875 120970689.00001875\n",
      "120970689.00001875 120970753.00001875\n",
      "120970753.00001875 120970817.00001875\n",
      "120970817.00001875 120970881.00001875\n",
      "120970881.00001875 120970945.00001875\n",
      "               ...                ...\n",
      "121015196.00001875 121015260.00001875\n",
      "121015260.00001875 121015324.00001875\n",
      "121015324.00001875 121015388.00001875\n",
      "121015388.00001875 121015452.00001875\n",
      "121015452.00001875 121015516.00001875\n",
      "121015516.00001875 121015580.00001875\n",
      "121015580.00001875 121015644.00001875\n",
      "Length = 58 rows\n"
     ]
    }
   ],
   "source": [
    "gti2 = Table.read(gti_file, format='fits')\n",
    "print(gti2)"
   ]
  },
  {
   "cell_type": "code",
   "execution_count": 30,
   "id": "210eea35",
   "metadata": {},
   "outputs": [],
   "source": [
    "final_tab = Table()\n",
    "final_tab.meta = gti2.meta"
   ]
  },
  {
   "cell_type": "code",
   "execution_count": 31,
   "id": "2b537671",
   "metadata": {},
   "outputs": [],
   "source": [
    "final_tab['START'] = start\n",
    "final_tab['STOP'] = ends"
   ]
  },
  {
   "cell_type": "code",
   "execution_count": 32,
   "id": "f560cfb2",
   "metadata": {},
   "outputs": [],
   "source": [
    "final_tab.write(gti_file, format='fits', overwrite=True)"
   ]
  },
  {
   "cell_type": "code",
   "execution_count": 34,
   "id": "e0f2fc65",
   "metadata": {},
   "outputs": [],
   "source": [
    "del datatab\n",
    "del gtitab"
   ]
  },
  {
   "cell_type": "markdown",
   "id": "d244b988",
   "metadata": {},
   "source": [
    "# Extract the events within just those specific GTIs"
   ]
  },
  {
   "cell_type": "code",
   "execution_count": 35,
   "id": "2bded03f",
   "metadata": {},
   "outputs": [
    {
     "name": "stdout",
     "output_type": "stream",
     "text": [
      "Run these things at the command line:\n",
      "bash\n",
      "heainit\n",
      "cd /home/astevens/Reduced_data/Swift_J0243.6+6124/\n",
      "chmod u+x extract.sh\n",
      "./extract.sh\n"
     ]
    }
   ],
   "source": [
    "extr_script = data_dir+\"extract.sh\"\n",
    "extr_log = data_dir+\"extract.log\"\n",
    "local_tot_extr_file = \"%s/xti/event_cl/obs%s_nobary-extr.evt\" % (obsid, obsid[-3:])\n",
    "local_ci_extr_file = \"%s/xti/event_cl/obs%s_CI_nobary-extr.evt\" % (obsid, obsid[-3:])\n",
    "with open(extr_script, 'w') as f:\n",
    "    f.write(\"if [ -e %s ]; \\n\" % extr_log)\n",
    "    f.write(\"then rm %s\\n\" % extr_log)\n",
    "    f.write(\"fi \\n\")\n",
    "    f.write(\"niextract-events \"\n",
    "            \"filename=./%s[PI=20:1200,EVENT_FLAGS=bxxx1x000] \"\n",
    "            \"eventsout=./%s \"\n",
    "            \"timefile=./%s \"\n",
    "            \"gti=GTI clobber=YES chatter=5 > %s\\n\" % (local_tot_evt_file, local_tot_extr_file, local_gti_file, extr_log))\n",
    "    f.write(\"niextract-events \"\n",
    "            \"filename=./%s[PI=20:1200,EVENT_FLAGS=bxxx1x000] \"\n",
    "            \"eventsout=./%s \"\n",
    "            \"timefile=./%s \"\n",
    "            \"gti=GTI clobber=YES chatter=5 > %s\" % (local_ci_evt_file, local_ci_extr_file, local_gti_file, extr_log))\n",
    "print(\"Run these things at the command line:\")\n",
    "print(\"bash\")\n",
    "print(\"heainit\")\n",
    "print(\"cd %s\" % data_dir)\n",
    "print(\"chmod u+x %s\" % os.path.basename(extr_script))\n",
    "print(\"./%s\" % os.path.basename(extr_script))"
   ]
  },
  {
   "cell_type": "markdown",
   "id": "cfeda6ac",
   "metadata": {},
   "source": [
    "## Run xselect in a terminal window (haven't scripted this)"
   ]
  },
  {
   "cell_type": "code",
   "execution_count": null,
   "id": "2a314b77",
   "metadata": {},
   "outputs": [],
   "source": []
  },
  {
   "cell_type": "markdown",
   "id": "5ffdabed",
   "metadata": {},
   "source": [
    "## Running NICER background estimator"
   ]
  },
  {
   "cell_type": "code",
   "execution_count": null,
   "id": "032d371a",
   "metadata": {},
   "outputs": [],
   "source": [
    "from nicergof.bkg import bkg_estimator as be"
   ]
  },
  {
   "cell_type": "code",
   "execution_count": null,
   "id": "174deb37",
   "metadata": {},
   "outputs": [],
   "source": []
  }
 ],
 "metadata": {
  "kernelspec": {
   "display_name": "Python 3 (ipykernel)",
   "language": "python",
   "name": "python3"
  },
  "language_info": {
   "codemirror_mode": {
    "name": "ipython",
    "version": 3
   },
   "file_extension": ".py",
   "mimetype": "text/x-python",
   "name": "python",
   "nbconvert_exporter": "python",
   "pygments_lexer": "ipython3",
   "version": "3.9.7"
  }
 },
 "nbformat": 4,
 "nbformat_minor": 5
}
